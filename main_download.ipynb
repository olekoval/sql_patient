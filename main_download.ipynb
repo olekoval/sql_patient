{
 "cells": [
  {
   "cell_type": "code",
   "execution_count": 1,
   "id": "d18b1a38",
   "metadata": {},
   "outputs": [],
   "source": [
    "import pandas as pd\n",
    "\n",
    "\n",
    "import numpy as np\n",
    "from sqlalchemy import create_engine\n",
    "from sqlalchemy.engine import URL\n",
    "\n",
    "url = URL.create(\n",
    "drivername=\"postgresql\",\n",
    ")\n",
    "\n",
    "engine = create_engine(url)\n"
   ]
  },
  {
   "cell_type": "markdown",
   "id": "bad821e1",
   "metadata": {},
   "source": [
    "## Запит по ЕМЗ 2020-2022 роки"
   ]
  },
  {
   "cell_type": "code",
   "execution_count": 6,
   "id": "8e8f2e3f",
   "metadata": {},
   "outputs": [
    {
     "name": "stdout",
     "output_type": "stream",
     "text": [
      "ГОТОВО !!!\n"
     ]
    }
   ],
   "source": [
    "sql = \\\n",
    "\"\"\"\n",
    "SELECT \n",
    "       dle.registration_area AS Область_реєстрації,\n",
    "       dle.edrpou AS ЕДРПОУ,\n",
    "       rse.id AS ID_ЕМЗ,\n",
    "       rse.packet_number AS Пакет,\n",
    "       rse.patient_id AS ID_Пацієнта,\n",
    "       rse.admission_source AS Підстава_госпіталізації,\n",
    "       rse.discharge_mode AS Результат_госпіталізації,\n",
    "       rse.starts  AS Дата_госпіталізації,       \n",
    "       rse.ends AS Дата_виписки,\n",
    "       rse.principal_diagnosis AS Діагноз_основний,\n",
    "       rse.add_diagnoses AS Діагнози_додаткові,\n",
    "       rse.action_references AS Проведені_інтервенції,\n",
    "       rse.person_gender AS Стать,\n",
    "       rse.age_years AS Вік,\n",
    "       rse.age_days AS Вік_до_року\n",
    "  FROM analytics.rds_smd_events_ehealth_2022 AS rse\n",
    "  LEFT JOIN analytics.dwh_legal_entities_edrpou_view AS dle USING (edrpou)\n",
    " WHERE rse.is_correct\n",
    "   AND rse.ends BETWEEN '2021-01-01' AND '2022-12-31'\n",
    "   AND rse.packet_number IN ('4', '8')\n",
    "   AND rse.admission_source = 'born_in_LE'\n",
    "\"\"\"\n",
    "\n",
    "df = pd.read_sql(sql, con=engine)\n",
    "df.to_csv(\"./data/main.csv\", index=False)\n"
   ]
  },
  {
   "cell_type": "markdown",
   "id": "3f73d98b",
   "metadata": {},
   "source": [
    "## Запит по ЕМЗ 2023 роки"
   ]
  },
  {
   "cell_type": "code",
   "execution_count": null,
   "id": "660c9813",
   "metadata": {},
   "outputs": [],
   "source": [
    "sql_main = \\\n",
    "\"\"\"\n",
    "WITH \n",
    "   ed AS (\n",
    "SELECT *\n",
    "  FROM analytics.rds_pmg_events_2023 \n",
    " INNER JOIN analytics.rds_pmg_events_checks_2023 \n",
    "       USING(id)\n",
    "  WHERE is_correct\n",
    "    AND starts >= '2023-01-01'\n",
    "    AND packet_number = '1'\n",
    "   )\n",
    "  \n",
    "SELECT le.edrpou AS \"ЕДРПОУ\",\n",
    "       le.kwd_name AS \"Назва_Закладу\",\n",
    "       le.registration_area AS \"Область_реєстрації\",\n",
    "       ed.patient_id  AS \"ID_Пацієнта\",\n",
    "       ed.admission_source  AS \"Підстава_госпіталізації\",\n",
    "       ed.discharge_mode AS \"Результат_госпіталізації\",\n",
    "       ed.starts  AS \"Дата_госпіталізації\",\n",
    "       ed.ends AS \"Дата_виписки\",\n",
    "       ed.length_of_stay AS \"Тривалість_лікування\",\n",
    "       ed.principal_diagnosis AS \"Діагноз_основний\", \n",
    "       ed.add_diagnoses AS \"Діагнози_додаткові\",\n",
    "       ed.action_references AS \"Проведені_інтервенції\",\n",
    "       ed.person_gender AS \"Стать\",\n",
    "       ed.age_years AS \"Вік\",\n",
    "       ed.age_days AS \"Вік_до_року\"\n",
    "  FROM ed \n",
    "  LEFT JOIN analytics.dwh_legal_entities_edrpou_view AS le USING (edrpou)\n",
    "\"\"\"\n",
    "df = pd.read_sql(sql_main, con=engine)\n",
    "df.to_csv(\"./data/main.csv\", index=False)"
   ]
  },
  {
   "cell_type": "markdown",
   "id": "b2cbe31b",
   "metadata": {},
   "source": [
    "## Запит по ЕМЗ 2021-2023 роках"
   ]
  },
  {
   "cell_type": "code",
   "execution_count": 3,
   "id": "7509b428",
   "metadata": {},
   "outputs": [],
   "source": [
    "sql_all = \\\n",
    "\"\"\"\n",
    "WITH \n",
    "   Y23 AS (\n",
    "SELECT *\n",
    "FROM analytics.rds_pmg_events_2023\n",
    " INNER JOIN analytics.rds_pmg_events_checks_2023 \n",
    "       USING(id)\n",
    " LEFT JOIN analytics.dwh_legal_entities_edrpou_view USING (edrpou)\n",
    "),\n",
    "    Y22 AS (\n",
    "SELECT *\n",
    "  FROM analytics.rds_smd_events_ehealth_2022\n",
    "  LEFT JOIN analytics.dwh_legal_entities_edrpou_view USING (edrpou)\n",
    "),\n",
    "    Y22_Y23 AS (\n",
    "SELECT registration_area AS Область_реєстрації,\n",
    "      edrpou AS ЕДРПОУ,\n",
    "      kwd_name AS Назва_Закладу,\n",
    "      id AS ID_ЕМЗ,\n",
    "      packet_number AS Пакет,\n",
    "      patient_id AS Пацієнт,\n",
    "      admission_source AS Підстава_госпіталізації,\n",
    "      discharge_mode AS Результат_госпіталізації,\n",
    "      starts  AS Дата_госпіталізації,       \n",
    "      ends AS Дата_виписки,\n",
    "      length_of_stay AS Тривалість_лікування,\n",
    "      principal_diagnosis AS Діагноз_основний,\n",
    "      add_diagnoses AS Діагнози_додаткові,\n",
    "      action_references AS Проведені_інтервенції,\n",
    "      person_gender AS Стать,\n",
    "      age_years AS Вік,\n",
    "      age_days AS Вік_до_року,\n",
    "      is_correct\n",
    " FROM Y22\n",
    "UNION \n",
    "SELECT registration_area AS Область_реєстрації,\n",
    "      edrpou AS ЕДРПОУ,\n",
    "      kwd_name AS Назва_Закладу,\n",
    "      id AS ID_ЕМЗ,\n",
    "      packet_number AS Пакет,\n",
    "      patient_id AS Пацієнт,\n",
    "      admission_source AS Підстава_госпіталізації,\n",
    "      discharge_mode AS Результат_госпіталізації,\n",
    "      starts  AS Дата_госпіталізації,       \n",
    "      ends AS Дата_виписки,\n",
    "      length_of_stay AS Тривалість_лікування,\n",
    "      principal_diagnosis AS Діагноз_основний,\n",
    "      add_diagnoses AS Діагнози_додаткові,\n",
    "      action_references AS Проведені_інтервенції,\n",
    "      person_gender AS Стать,\n",
    "      age_years AS Вік,\n",
    "      age_days AS Вік_до_року,\n",
    "      is_correct\n",
    "  FROM Y23  \n",
    "  )\n",
    " \n",
    "SELECT *         \n",
    "  FROM Y22_Y23\n",
    " WHERE is_correct\n",
    "    AND Пацієнт = 'E90E23C9CE014B66F5D2B72477231B7EC842D7D8A316211886398E7AD2131A5C'\n",
    "  ORDER BY  Дата_госпіталізації\n",
    " \"\"\"\n",
    " \n",
    "df = pd.read_sql(sql_all, con=engine)\n",
    "df.to_csv(\"./data/main.csv\", index=False) \n",
    " "
   ]
  },
  {
   "cell_type": "code",
   "execution_count": null,
   "id": "a758232f",
   "metadata": {},
   "outputs": [],
   "source": []
  }
 ],
 "metadata": {
  "kernelspec": {
   "display_name": "Python 3 (ipykernel)",
   "language": "python",
   "name": "python3"
  },
  "language_info": {
   "codemirror_mode": {
    "name": "ipython",
    "version": 3
   },
   "file_extension": ".py",
   "mimetype": "text/x-python",
   "name": "python",
   "nbconvert_exporter": "python",
   "pygments_lexer": "ipython3",
   "version": "3.9.13"
  }
 },
 "nbformat": 4,
 "nbformat_minor": 5
}
