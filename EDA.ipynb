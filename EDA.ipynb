{
 "cells": [
  {
   "cell_type": "code",
   "execution_count": null,
   "id": "18188cf7",
   "metadata": {},
   "outputs": [],
   "source": [
    "import pandas as pd\n",
    "\n",
    "path = \"./data/main.csv\"\n",
    "df = pd.read_csv(path, dtype={'ЕДРПОУ':'object'})\n",
    "\n",
    "df['Дата_госпіталізації'] = df['Дата_госпіталізації'].astype(\"datetime64[ns]\")\n",
    "df['Дата_виписки'] = df['Дата_виписки'].astype(\"datetime64[ns]\")\n",
    "\n",
    "\n",
    "df['Діагноз_основний'] = df.Діагноз_основний.fillna(\"\")\n",
    "df['Діагнози_додаткові'] = df.Діагнози_додаткові.fillna(\"\")\n",
    "df['Проведені_інтервенції'] = df.Проведені_інтервенції.fillna(\"\")"
   ]
  },
  {
   "cell_type": "markdown",
   "id": "6fa50b6c",
   "metadata": {},
   "source": [
    "## Розшифровка діагноза основного"
   ]
  },
  {
   "cell_type": "code",
   "execution_count": null,
   "id": "e6a9e678",
   "metadata": {},
   "outputs": [],
   "source": [
    "f = open(\"./data/diagnosis.csv\", encoding='UTF-8')\n",
    "d = dict()\n",
    "for line in f:\n",
    "    k = line.split('|')[0]\n",
    "    v = line.split('|')[1]\n",
    "    d[k] = v\n",
    "    \n",
    "    \n",
    "df['Діагноз_основний'] = df['Діагноз_основний'].apply(lambda s: f\"{s} - {d.setdefault(s, '')}\") "
   ]
  },
  {
   "cell_type": "markdown",
   "id": "84ef37e2",
   "metadata": {},
   "source": [
    "## Розшифровка діагноза основного та додаткових"
   ]
  },
  {
   "cell_type": "code",
   "execution_count": null,
   "id": "edc6d1c4",
   "metadata": {},
   "outputs": [],
   "source": [
    "# словник береться з \"Розшифровка діагноза основного\"\n",
    "\n",
    "def add_diagnos(s):\n",
    "    if s == \"\" or s == \"[]\" or s == \"{}\":\n",
    "        return \"\"\n",
    "    \n",
    "    \n",
    "    if s[0] == \"[\":\n",
    "        s = s[2:-2]\n",
    "        lt = s.split(\"', '\")\n",
    "    else:\n",
    "        s = s[1:-1]\n",
    "        lt = s.split(\",\")\n",
    "        \n",
    "        \n",
    "    st = \"\"\n",
    "    for j, i in enumerate(lt):\n",
    "        if j == len(lt) - 1:\n",
    "            st = st + f\"{i} - {d.setdefault(i, '')}\"\n",
    "        else:    \n",
    "            st = st + f\"{i} - {d.setdefault(i, '')} | \"\n",
    "            \n",
    "            \n",
    "    return st\n",
    "\n",
    "df['Діагнози_додаткові'] = df['Діагнози_додаткові'].apply(add_diagnos)"
   ]
  },
  {
   "cell_type": "markdown",
   "id": "defb8dbf",
   "metadata": {},
   "source": [
    "## Розшифровка інтервенцій"
   ]
  },
  {
   "cell_type": "code",
   "execution_count": null,
   "id": "799de2be",
   "metadata": {},
   "outputs": [],
   "source": [
    "ff = open(\"./data/intervents.csv\", encoding='UTF-8')\n",
    "ff = [line.rstrip() for line in ff.readlines()]\n",
    "dd = dict()\n",
    "for ln in ff:\n",
    "    k = ln.split('|')[0]\n",
    "    v = ln.split('|')[1]\n",
    "    dd[k] = v\n",
    "    \n",
    "def action(s):\n",
    "    if s == \"\":\n",
    "        return s\n",
    "    \n",
    "    \n",
    "    if s[0] == \"[\":\n",
    "        s = s[2:-2]\n",
    "        lt = s.split(\"', '\")\n",
    "    else:\n",
    "        s = s[1:-1]\n",
    "        lt = s.split(\",\")\n",
    "        \n",
    "        \n",
    "    st = \"\"\n",
    "    for j, i in enumerate(lt):\n",
    "        if j == len(lt) - 1:\n",
    "            st = st + f\"{i} - {dd.setdefault(i, '')}\"\n",
    "        else:    \n",
    "            st = st + f\"{i} - {dd.setdefault(i, '')} | \"\n",
    "            \n",
    "            \n",
    "    return st    \n",
    "\n",
    "df['Проведені_інтервенції'] = df['Проведені_інтервенції'].apply(action)"
   ]
  },
  {
   "cell_type": "markdown",
   "id": "0d304390",
   "metadata": {},
   "source": [
    "## Розшифровка підстави госпіталізації"
   ]
  },
  {
   "cell_type": "code",
   "execution_count": null,
   "id": "1e42835b",
   "metadata": {},
   "outputs": [],
   "source": [
    "fa = open(\"./data/admission_source.csv\", encoding='UTF-8')\n",
    "da = dict()\n",
    "for lin in fa:\n",
    "    k = lin.rstrip('\\n').split(',')[0]\n",
    "    v = lin.rstrip('\\n').split(',')[1]\n",
    "    da[k] = v\n",
    "\n",
    "    \n",
    "df['Підстава_госпіталізації'] = df['Підстава_госпіталізації'].fillna(\"\")    \n",
    "df['Підстава_госпіталізації'] = df['Підстава_госпіталізації'].apply(lambda s: s if s == \"\" else f\"{da[s]}\")"
   ]
  },
  {
   "cell_type": "markdown",
   "id": "fa73cf04",
   "metadata": {},
   "source": [
    "## Розшифровка результат_госпіталізації"
   ]
  },
  {
   "cell_type": "code",
   "execution_count": null,
   "id": "34b44327",
   "metadata": {},
   "outputs": [],
   "source": [
    "fdi = open(\"./data/discharge_mode.csv\", encoding='UTF-8')\n",
    "ddi = dict()\n",
    "for li in fdi:\n",
    "    k = li.rstrip('\\n').split(',')[0]\n",
    "    v = li.rstrip('\\n').split(',')[1]\n",
    "    ddi[k] = v\n",
    "\n",
    "    \n",
    "df['Результат_госпіталізації'] = df['Результат_госпіталізації'].fillna(\"\")  \n",
    "df['Результат_госпіталізації'] = df['Результат_госпіталізації'].apply(lambda s:  s if s == \"\" else f\"{ddi[s]}\")"
   ]
  },
  {
   "cell_type": "markdown",
   "id": "0839efaa",
   "metadata": {},
   "source": [
    "## Розшифровка статі"
   ]
  },
  {
   "cell_type": "code",
   "execution_count": null,
   "id": "49999f64",
   "metadata": {},
   "outputs": [],
   "source": [
    "df['Стать'] = df['Стать'].apply(lambda s: \"Чоловік\" if s == \"MALE\" else \"Жінка\")"
   ]
  },
  {
   "cell_type": "markdown",
   "id": "e46db843",
   "metadata": {},
   "source": [
    "## Запис у файл result.xlsx"
   ]
  },
  {
   "cell_type": "code",
   "execution_count": null,
   "id": "d1ecbc1b",
   "metadata": {},
   "outputs": [],
   "source": [
    "df[\"Дата_госпіталізації\"] = df[\"Дата_госпіталізації\"].dt.date\n",
    "df[\"Дата_виписки\"] = df[\"Дата_виписки\"].dt.date\n",
    "df.to_excel(\"result.xlsx\", index=False)\n",
    "print(\"файл - result.xlsx записан\")"
   ]
  },
  {
   "cell_type": "code",
   "execution_count": null,
   "id": "23644a91",
   "metadata": {},
   "outputs": [],
   "source": []
  }
 ],
 "metadata": {
  "kernelspec": {
   "display_name": "Python 3 (ipykernel)",
   "language": "python",
   "name": "python3"
  },
  "language_info": {
   "codemirror_mode": {
    "name": "ipython",
    "version": 3
   },
   "file_extension": ".py",
   "mimetype": "text/x-python",
   "name": "python",
   "nbconvert_exporter": "python",
   "pygments_lexer": "ipython3",
   "version": "3.9.13"
  }
 },
 "nbformat": 4,
 "nbformat_minor": 5
}
